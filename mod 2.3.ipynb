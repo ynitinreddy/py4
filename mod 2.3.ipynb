{
 "cells": [
  {
   "cell_type": "code",
   "execution_count": 2,
   "metadata": {},
   "outputs": [
    {
     "name": "stdout",
     "output_type": "stream",
     "text": [
      "Enter the radius of the circle: 9\n",
      "Area= 254.46900494077323\n"
     ]
    }
   ],
   "source": [
    "import math\n",
    "r = float(input(\"Enter the radius of the circle: \"))\n",
    "area = math.pi* r * r\n",
    "print(\"Area=\" ,area)"
   ]
  },
  {
   "cell_type": "code",
   "execution_count": 4,
   "metadata": {},
   "outputs": [
    {
     "name": "stdout",
     "output_type": "stream",
     "text": [
      "Enter the length of each side of Polygon (in meters): 3\n",
      "Enter the number of sides: 4\n",
      "The area of Polygon is 9.00 \n"
     ]
    }
   ],
   "source": [
    "from math import tan,pi\n",
    "\n",
    "length  = float(input(\"Enter the length of each side of Polygon (in meters): \"))\n",
    "number  = int(input(\"Enter the number of sides: \"))\n",
    "area = (number * length ** 2)/(4 * tan(pi/number))\n",
    "print(\"The area of Polygon is %.2f \" % area)"
   ]
  },
  {
   "cell_type": "code",
   "execution_count": 5,
   "metadata": {},
   "outputs": [
    {
     "name": "stdout",
     "output_type": "stream",
     "text": [
      "['a', 1, 3, 4, 'indi']\n"
     ]
    }
   ],
   "source": [
    "from random import shuffle\n",
    "list = [\"indi\",1,3,4,\"a\"]\n",
    "shuffle(list)\n",
    "print(list)"
   ]
  },
  {
   "cell_type": "code",
   "execution_count": 6,
   "metadata": {},
   "outputs": [
    {
     "name": "stdout",
     "output_type": "stream",
     "text": [
      "-0.3048106211022167\n",
      "-1.0\n",
      "-1.995200412208242\n",
      "1.0471967436282854\n",
      "390625.0\n",
      "20.0\n",
      "10.0\n",
      "3.010299956639812\n",
      "24\n",
      "23\n"
     ]
    }
   ],
   "source": [
    "print(math.sin(60))\n",
    "print(math.cos(pi))\n",
    "print(math.tan(90))\n",
    "print(math.asin(0.866025))\n",
    "print(math.pow(5,8))\n",
    "print(math.sqrt(400))\n",
    "print(math.log2(1024))\n",
    "print(math.log10(1024))\n",
    "print(math.ceil(23.56))\n",
    "print(math.floor(23.56))"
   ]
  },
  {
   "cell_type": "code",
   "execution_count": null,
   "metadata": {},
   "outputs": [],
   "source": []
  }
 ],
 "metadata": {
  "kernelspec": {
   "display_name": "Python 3",
   "language": "python",
   "name": "python3"
  },
  "language_info": {
   "codemirror_mode": {
    "name": "ipython",
    "version": 3
   },
   "file_extension": ".py",
   "mimetype": "text/x-python",
   "name": "python",
   "nbconvert_exporter": "python",
   "pygments_lexer": "ipython3",
   "version": "3.8.3"
  }
 },
 "nbformat": 4,
 "nbformat_minor": 4
}
